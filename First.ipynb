{
  "nbformat": 4,
  "nbformat_minor": 0,
  "metadata": {
    "colab": {
      "name": "Untitled2.ipynb",
      "version": "0.3.2",
      "provenance": [],
      "collapsed_sections": []
    },
    "kernelspec": {
      "name": "python3",
      "display_name": "Python 3"
    }
  },
  "cells": [
    {
      "cell_type": "markdown",
      "metadata": {
        "id": "view-in-github",
        "colab_type": "text"
      },
      "source": [
        "[View in Colaboratory](https://colab.research.google.com/github/jayaramanjay97/Conv2D/blob/inte/First.ipynb)"
      ]
    },
    {
      "metadata": {
        "id": "zqp79qmEDgDn",
        "colab_type": "code",
        "colab": {}
      },
      "cell_type": "code",
      "source": [
        "import numpy as np\n",
        "import math as m\n",
        "import matplotlib.pyplot as plt\n",
        "%matplotlib inline"
      ],
      "execution_count": 0,
      "outputs": []
    },
    {
      "metadata": {
        "id": "Ug0QZ706UZ40",
        "colab_type": "code",
        "colab": {}
      },
      "cell_type": "code",
      "source": [
        "def conv_single_step(a_slice_prev, W, b):\n",
        "    s =np.multiply(a_slice_prev,W)\n",
        "    Z = np.sum(s)\n",
        "    Z = Z+float(b)\n",
        "    return Z"
      ],
      "execution_count": 0,
      "outputs": []
    },
    {
      "metadata": {
        "id": "8TapX-koU98e",
        "colab_type": "code",
        "colab": {}
      },
      "cell_type": "code",
      "source": [
        "def conv_forward(A_prev, W, b, hparameters):\n",
        "    (m,n_H_prev, n_W_prev, n_C_prev) = A_prev.shape\n",
        "\n",
        "    (f, f, n_C_prev, n_C) = W.shape\n",
        "\n",
        "    stride = hparameters[\"stride\"]\n",
        "    pad = hparameters[\"pad\"]\n",
        "\n",
        "    \n",
        "    n_H = int((n_H_prev - f + 2*pad) / stride )+ 1\n",
        "    n_W = int((n_W_prev - f + 2*pad) / stride )+ 1\n",
        "\n",
        "       \n",
        "    Z = np.zeros((m,n_H, n_W, n_C))\n",
        "    \n",
        "    for i in range(m):\n",
        "      a_prev = A_prev[i,:,:,:]  \n",
        "      for h in range(n_H):                         \n",
        "        for w in range(n_W):                       \n",
        "          for c in range(n_C):                   \n",
        "\n",
        "          \n",
        "            vert_start = stride * h\n",
        "            vert_end = vert_start + f\n",
        "            horiz_start = stride * w\n",
        "            horiz_end = horiz_start + f\n",
        "\n",
        "            a_slice_prev = a_prev[vert_start:vert_end, horiz_start:horiz_end, :]\n",
        "            Z[i,h, w, c] = conv_single_step(a_slice_prev, W[:, :, :, c], b[:, :, :, c])\n",
        "\n",
        "    \n",
        "\n",
        "    # Making sure your output shape is correct\n",
        "    assert(Z.shape == (m,n_H, n_W, n_C))\n",
        "    \n",
        "\n",
        "    # Save information in \"cache\" for the backprop\n",
        "    cache = (A_prev, W, b, hparameters)\n",
        "\n",
        "    return Z, cache"
      ],
      "execution_count": 0,
      "outputs": []
    },
    {
      "metadata": {
        "id": "wOuKvqEoX8bW",
        "colab_type": "code",
        "colab": {}
      },
      "cell_type": "code",
      "source": [
        "def relu(X):\n",
        "  return np.maximum(X,0);"
      ],
      "execution_count": 0,
      "outputs": []
    },
    {
      "metadata": {
        "id": "7AgO61PAeTAM",
        "colab_type": "code",
        "colab": {}
      },
      "cell_type": "code",
      "source": [
        "XX = relu(Z)\n",
        "ZZ = np.reshape(Z,[Z.shape[1]*Z.shape[2]*Z.shape[3]])\n",
        "WW = np.random.randn(1024,ZZ.shape[0])\n",
        "M = np.dot(WW,ZZ);\n",
        "\n",
        "\n",
        "WW2 = np.random.rand(100,M.shape[0])\n",
        "M2 = np.dot(WW2,M)\n",
        "M2.shape"
      ],
      "execution_count": 0,
      "outputs": []
    },
    {
      "metadata": {
        "id": "ttE3gxv4nzbk",
        "colab_type": "code",
        "colab": {}
      },
      "cell_type": "code",
      "source": [
        "def conv_backward(dZ, cache):\n",
        "    \n",
        "    \n",
        "    (A_prev, W, b, hparameters) = cache\n",
        "    \n",
        "    (m, n_H_prev, n_W_prev, n_C_prev) = A_prev.shape\n",
        "    \n",
        "    (f, f, n_C_prev, n_C) = W.shape\n",
        "    \n",
        "    stride = hparameters[\"stride\"]\n",
        "    pad = hparameters[\"pad\"]\n",
        "    (m, n_H, n_W, n_C) = dZ.shape\n",
        "    \n",
        "    \n",
        "    dA_prev = np.zeros((A_prev.shape))                           \n",
        "    dW = np.zeros((W.shape))\n",
        "    db = np.zeros((1,1,1,n_C))\n",
        "    \n",
        "    \n",
        "    for i in range(m):                      \n",
        "        \n",
        "   \n",
        "        a_prev = A_prev[i, :, :, :]  \n",
        "        da_prev= dA_prev[i,:,:,:]\n",
        "        \n",
        "        for h in range(n_H):                   \n",
        "            for w in range(n_W):               \n",
        "                for c in range(n_C):           \n",
        "                    \n",
        "                    vert_start = stride*h\n",
        "                    vert_end = f+vert_start\n",
        "                    horiz_start =  stride*w\n",
        "                    horiz_end = f+horiz_start\n",
        "                    \n",
        "                    a_slice = a_prev[vert_start:vert_end,horiz_start:horiz_end,:]\n",
        "\n",
        "                    da_prev[vert_start:vert_end, horiz_start:horiz_end, :] += W[:,:,:,c] * dZ[i, h, w, c]\n",
        "                    dW[:,:,:,c] += a_slice*dZ[i,h,w,c]\n",
        "                    db[:,:,:,c] += dZ[i,h,w,c]\n",
        "                    \n",
        "        dA_prev[i, :, :, :] = da_prev\n",
        "    \n",
        "    assert(dA_prev.shape == (m, n_H_prev, n_W_prev, n_C_prev))\n",
        "    print(dZ.shape)\n",
        "    print(A_prev.shape)\n",
        "    return dA_prev, dW, db"
      ],
      "execution_count": 0,
      "outputs": []
    }
  ]
}